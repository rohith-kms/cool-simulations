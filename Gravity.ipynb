{
 "cells": [
  {
   "cell_type": "code",
   "execution_count": 1,
   "metadata": {
    "collapsed": true
   },
   "outputs": [],
   "source": [
    "import numpy as np\n",
    "import matplotlib.pyplot as plt\n",
    "\n",
    "from ipywidgets import interact\n",
    "from IPython.display import display\n",
    "import matplotlib.pyplot as plt\n",
    "\n",
    "%matplotlib inline"
   ]
  },
  {
   "cell_type": "code",
   "execution_count": 2,
   "metadata": {
    "collapsed": true
   },
   "outputs": [],
   "source": [
    "# initial mass, positions and velocities\n",
    "\n",
    "m1 = 1\n",
    "m2 = 2\n",
    "\n",
    "m1_x_prev = np.array([1,1])\n",
    "m2_x_prev = np.array([-1,-1])\n",
    "\n",
    "m1_v = np.array([0,0.5])\n",
    "m2_v = np.array([0,-0.75])\n",
    "\n",
    "# set parameters\n",
    "\n",
    "dt = 0.001\n",
    "time = 100000\n",
    "\n",
    "# --- first iteration ---\n",
    "\n",
    "# calc_forces\n",
    "\n",
    "m1_f = [m1*m2/np.power(np.linalg.norm(m2_x_prev - m1_x_prev),3)]*(m2_x_prev - m1_x_prev)\n",
    "\n",
    "m2_f = [m1*m2/np.power(np.linalg.norm(m2_x_prev - m1_x_prev),3)]*(m1_x_prev - m2_x_prev)\n",
    "\n",
    "# calc next positions (Euler)\n",
    "\n",
    "m1_x = m1_x_prev + m1_v*dt + m1_f*np.power(dt,2)/(2*m1)\n",
    "\n",
    "m2_x = m2_x_prev + m2_v*dt + m2_f*np.power(dt,2)/(2*m2)\n",
    "\n",
    "m1_x_next = m1_x\n",
    "m2_x_next = m2_x\n",
    "\n",
    "m1_x = m1_x_prev\n",
    "m2_x = m2_x_prev"
   ]
  },
  {
   "cell_type": "code",
   "execution_count": 3,
   "metadata": {
    "collapsed": true
   },
   "outputs": [],
   "source": [
    "# Loopy stuff -- Verlet algorithm\n",
    "\n",
    "m1_x_traj = np.zeros([time,2])\n",
    "m2_x_traj = np.zeros([time,2])\n",
    "\n",
    "#pe_traj = np.zeros(time)\n",
    "#ke_traj = np.zeros(time)\n",
    "\n",
    "\n",
    "\n",
    "for i in range(time):\n",
    "    \n",
    "    # record trajectory \n",
    "    \n",
    "    m1_x_traj[i] = m1_x\n",
    "    m2_x_traj[i] = m2_x\n",
    "    #pe_traj[i] = m1*m2/np.norm(m1_x-m2_x)\n",
    "    #ke_traj[i] = m1*np.power(np.norm(m1_v),2) + m2*np.power(np.norm(m2_v),2)\n",
    "    \n",
    "    # time hath passed\n",
    "    \n",
    "    m1_x_prev = m1_x\n",
    "    m2_x_prev = m2_x\n",
    "    \n",
    "    m1_x = m1_x_next\n",
    "    m2_x = m2_x_next\n",
    "    \n",
    "    # calculate forces\n",
    "    \n",
    "    m1_f = [m1*m2/np.power(np.linalg.norm(m2_x_prev - m1_x_prev),3)]*(m2_x_prev - m1_x_prev)\n",
    "    m2_f = [m1*m2/np.power(np.linalg.norm(m2_x_prev - m1_x_prev),3)]*(m1_x_prev - m2_x_prev)\n",
    "    \n",
    "    # update positions\n",
    "    \n",
    "    m1_x_next = 2*m1_x - m1_x_prev + m1_f*np.power(dt,2)/m1\n",
    "    m2_x_next = 2*m2_x - m2_x_prev + m2_f*np.power(dt,2)/m2\n",
    "    \n",
    "    # update velocities\n",
    "    \n",
    "    m1_v = (m1_x_next - m1_x_prev)/(2*dt)\n",
    "    m2_v = (m2_x_next - m2_x_prev)/(2*dt)\n",
    "    "
   ]
  },
  {
   "cell_type": "code",
   "execution_count": 5,
   "metadata": {},
   "outputs": [
    {
     "data": {
      "text/plain": [
       "[<matplotlib.lines.Line2D at 0x7f367c8ad630>]"
      ]
     },
     "execution_count": 5,
     "metadata": {},
     "output_type": "execute_result"
    },
    {
     "data": {
      "image/png": "[encoded data removed]",
      "text/plain": [
       "<Figure size 720x432 with 1 Axes>"
      ]
     },
     "metadata": {},
     "output_type": "display_data"
    }
   ],
   "source": [
    "plt.figure(figsize=(10,6))\n",
    "plt.xlim(-6,6)\n",
    "\n",
    "plt.plot(m1_x_traj[:,0],m1_x_traj[:,1])\n",
    "plt.plot(m2_x_traj[:,0],m2_x_traj[:,1])"
   ]
  },
  {
   "cell_type": "code",
   "execution_count": null,
   "metadata": {
    "collapsed": true
   },
   "outputs": [],
   "source": []
  }
 ],
 "metadata": {
  "kernelspec": {
   "display_name": "Python 3",
   "language": "python",
   "name": "python3"
  },
  "language_info": {
   "codemirror_mode": {
    "name": "ipython",
    "version": 3
   },
   "file_extension": ".py",
   "mimetype": "text/x-python",
   "name": "python",
   "nbconvert_exporter": "python",
   "pygments_lexer": "ipython3",
   "version": "3.6.3"
  }
 },
 "nbformat": 4,
 "nbformat_minor": 2
}
