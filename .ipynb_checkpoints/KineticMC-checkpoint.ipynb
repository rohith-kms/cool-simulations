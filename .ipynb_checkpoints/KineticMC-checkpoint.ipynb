{
 "cells": [
  {
   "cell_type": "code",
   "execution_count": 39,
   "metadata": {
    "collapsed": true
   },
   "outputs": [],
   "source": [
    "import numpy as np\n",
    "from ipywidgets import interact\n",
    "import seaborn as sns; sns.set()\n",
    "from IPython.display import display\n",
    "import matplotlib.pyplot as plt\n",
    "\n",
    "%matplotlib inline"
   ]
  },
  {
   "cell_type": "code",
   "execution_count": 40,
   "metadata": {
    "collapsed": true
   },
   "outputs": [],
   "source": [
    "# define pAA, pAB, pBB\n",
    "# A's are zeros, B's are ones\n",
    "\n",
    "pAA = -1\n",
    "pBB = -1\n",
    "pAB = -1.5"
   ]
  },
  {
   "cell_type": "code",
   "execution_count": 41,
   "metadata": {},
   "outputs": [
    {
     "data": {
      "image/png": "[encoded data removed]",
      "text/plain": [
       "<Figure size 432x288 with 2 Axes>"
      ]
     },
     "metadata": {},
     "output_type": "display_data"
    },
    {
     "name": "stdout",
     "output_type": "stream",
     "text": [
      "(6, 5)\n"
     ]
    }
   ],
   "source": [
    "# lattice initialisation\n",
    "\n",
    "n=10\n",
    "\n",
    "#lat = np.zeros([n,n])\n",
    "lat = (np.random.rand(n,n)<0.5)*1.0\n",
    "init_lat=lat\n",
    "\n",
    "vacancy_pos = int(n/2),int(n/2)\n",
    "vacancy_pos = vacancy_pos[0]+1,vacancy_pos[1]\n",
    "\n",
    "lat[vacancy_pos] = -1\n",
    "\n",
    "larger_lat = np.ones([n+2,n+2])*0.5\n",
    "\n",
    "ax = sns.heatmap(lat[:,:])\n",
    "plt.show()\n",
    "\n",
    "print(vacancy_pos)"
   ]
  },
  {
   "cell_type": "code",
   "execution_count": 42,
   "metadata": {},
   "outputs": [
    {
     "name": "stdout",
     "output_type": "stream",
     "text": [
      "Initial energy =  -302.5\n"
     ]
    },
    {
     "data": {
      "image/png": "[encoded data removed]",
      "text/plain": [
       "<Figure size 432x288 with 2 Axes>"
      ]
     },
     "metadata": {},
     "output_type": "display_data"
    },
    {
     "name": "stdout",
     "output_type": "stream",
     "text": [
      "(7, 6)\n"
     ]
    }
   ],
   "source": [
    "# return larger lattice for applying periodic boundary conditions\n",
    "\n",
    "def periodic_bd(lat):\n",
    "    \n",
    "    larger_lat = np.ones([n+2,n+2])*0.5\n",
    "    larger_lat[1:-1,1:-1] = lat\n",
    "    larger_lat[1:-1,0] = lat[:,-1]\n",
    "    larger_lat[1:-1,-1] = lat[:,0]\n",
    "    larger_lat[0,1:-1] = lat[-1,:]\n",
    "    larger_lat[-1,1:-1] = lat[0,:]\n",
    "    \n",
    "    return larger_lat\n",
    "\n",
    "\n",
    "larger_lat = periodic_bd(lat)\n",
    "\n",
    "def calc_energy_total(lat):\n",
    "    \n",
    "    larger_lat = periodic_bd(lat)\n",
    "    energy=0\n",
    "    \n",
    "    for i in range(n+1):        \n",
    "        for j in range(n+1):\n",
    "            \n",
    "            energy += (larger_lat[i,j]==larger_lat[i+1,j]==0)*pAA + \\\n",
    "            (larger_lat[i,j]==larger_lat[i+1,j]==1)*pBB + \\\n",
    "            ((larger_lat[i,j]!=larger_lat[i+1,j])&(larger_lat[i+1,j]!=0.5))*pAB + \\\n",
    "            (larger_lat[i,j]==larger_lat[i,j+1]==0)*pAA + \\\n",
    "            (larger_lat[i,j]==larger_lat[i,j+1]==1)*pBB + \\\n",
    "            ((larger_lat[i,j]!=larger_lat[i,j+1])&(larger_lat[i,j+1]!=0.5))*pAB\n",
    "            \n",
    "    return energy\n",
    "\n",
    "initial_energy = calc_energy_total(lat)\n",
    "\n",
    "print(\"Initial energy = \", initial_energy)\n",
    "\n",
    "larger_lat = periodic_bd(lat)\n",
    "vacancy_pos = vacancy_pos[0]+1,vacancy_pos[1]+1\n",
    "\n",
    "ax = sns.heatmap(larger_lat)\n",
    "plt.show()\n",
    "print(vacancy_pos)"
   ]
  },
  {
   "cell_type": "code",
   "execution_count": 43,
   "metadata": {},
   "outputs": [
    {
     "data": {
      "text/plain": [
       "-5.5"
      ]
     },
     "execution_count": 43,
     "metadata": {},
     "output_type": "execute_result"
    }
   ],
   "source": [
    "def calc_energy_one(pos,larger_lat):\n",
    "    \n",
    "    i1 = pos[0]\n",
    "    j1 = pos[1]\n",
    "    \n",
    "    # wrapping to avoid array out of bounds\n",
    "    if (j1<1):    \n",
    "        j1=n\n",
    "        \n",
    "    if (j1>n):\n",
    "        j1=1\n",
    "    \n",
    "    if (i1<1):    \n",
    "        i1=n\n",
    "        \n",
    "    if (i1>n):\n",
    "        i1=1\n",
    "    \n",
    "    energy = (larger_lat[i1,j1]==larger_lat[i1+1,j1]==0)*pAA + \\\n",
    "    (larger_lat[i1,j1]==larger_lat[i1+1,j1]==1)*pBB + \\\n",
    "    ((larger_lat[i1,j1]!=larger_lat[i1+1,j1])&(larger_lat[i1+1,j1]!=0.5))*pAB + \\\n",
    "    (larger_lat[i1,j1]==larger_lat[i1,j1+1]==0)*pAA + \\\n",
    "    (larger_lat[i1,j1]==larger_lat[i1,j1+1]==1)*pBB + \\\n",
    "    ((larger_lat[i1,j1]!=larger_lat[i1,j1+1])&(larger_lat[i1,j1+1]!=0.5))*pAB + \\\n",
    "    (larger_lat[i1,j1]==larger_lat[i1,j1-1]==0)*pAA + \\\n",
    "    (larger_lat[i1,j1]==larger_lat[i1,j1-1]==1)*pBB + \\\n",
    "    ((larger_lat[i1,j1]!=larger_lat[i1,j1-1])&(larger_lat[i1,j1-1]!=0.5))*pAB + \\\n",
    "    (larger_lat[i1,j1]==larger_lat[i1-1,j1]==0)*pAA + \\\n",
    "    (larger_lat[i1,j1]==larger_lat[i1-1,j1]==1)*pBB + \\\n",
    "    ((larger_lat[i1,j1]!=larger_lat[i1-1,j1])&(larger_lat[i1-1,j1]!=0.5))*pAB\n",
    "    \n",
    "    return energy\n",
    "\n",
    "calc_energy_one((5,5),larger_lat)"
   ]
  },
  {
   "cell_type": "code",
   "execution_count": 44,
   "metadata": {},
   "outputs": [
    {
     "data": {
      "image/png": "[encoded data removed]",
      "text/plain": [
       "<Figure size 432x288 with 2 Axes>"
      ]
     },
     "metadata": {},
     "output_type": "display_data"
    },
    {
     "name": "stdout",
     "output_type": "stream",
     "text": [
      "(7, 6)\n"
     ]
    }
   ],
   "source": [
    "def swap(pos1,pos2,larger_lat):\n",
    "    \n",
    "    #pos1 is vacancy position\n",
    "    new = np.copy(larger_lat)\n",
    "    temp = new[pos2]\n",
    "    new[pos2] = new[pos1]\n",
    "    new[pos1] = temp\n",
    "    \n",
    "    delta_e = (-calc_energy_one(pos1,larger_lat) \\\n",
    "    - calc_energy_one(pos2,larger_lat) \\\n",
    "    + calc_energy_one(pos1,new) \\\n",
    "    + calc_energy_one(pos2,new))\n",
    "    \n",
    "    return new,delta_e\n",
    "\n",
    "up = vacancy_pos[0]-1,vacancy_pos[1]\n",
    "\n",
    "# moving up\n",
    "#ax = sns.heatmap(larger_lat)\n",
    "ax = sns.heatmap(swap(vacancy_pos,up,larger_lat)[0])\n",
    "plt.show()\n",
    "\n",
    "print(vacancy_pos)"
   ]
  },
  {
   "cell_type": "code",
   "execution_count": 45,
   "metadata": {},
   "outputs": [
    {
     "name": "stdout",
     "output_type": "stream",
     "text": [
      "(8, 6) 0.5\n"
     ]
    },
    {
     "data": {
      "image/png": "[encoded data removed]",
      "text/plain": [
       "<Figure size 432x288 with 2 Axes>"
      ]
     },
     "metadata": {},
     "output_type": "display_data"
    },
    {
     "name": "stdout",
     "output_type": "stream",
     "text": [
      "(7, 6)\n"
     ]
    }
   ],
   "source": [
    "def iteration(larger_lat,vacancy_pos,kT):\n",
    "    \n",
    "    # Finding different paths and their relative kinetics\n",
    "    \n",
    "    up = vacancy_pos[0]-1,vacancy_pos[1]\n",
    "    down = vacancy_pos[0]+1,vacancy_pos[1]\n",
    "    right = vacancy_pos[0],vacancy_pos[1]+1\n",
    "    left = vacancy_pos[0],vacancy_pos[1]-1\n",
    "    \n",
    "    lat_up,e_up = swap(vacancy_pos,up,larger_lat)\n",
    "    lat_down,e_down = swap(vacancy_pos,down,larger_lat)\n",
    "    lat_right,e_right = swap(vacancy_pos,right,larger_lat)\n",
    "    lat_left,e_left = swap(vacancy_pos,left,larger_lat)\n",
    "    \n",
    "    positions = [up,down,right,left]\n",
    "    energies = np.array([e_up,e_down,e_right,e_left])\n",
    "    rates = np.exp(-energies/kT)\n",
    "    lats = [lat_up,lat_down,lat_right,lat_left]\n",
    "    \n",
    "    # Choosing which path to take\n",
    "    \n",
    "    cum_rates = np.cumsum(rates)\n",
    "    rand = np.random.rand()*cum_rates[-1]\n",
    "    index = np.where(np.array(cum_rates>rand) ==True)[0][0]\n",
    "    \n",
    "    # Apply periodic boundary conditions.\n",
    "    \n",
    "    if (positions[index][0]<1): \n",
    "        \n",
    "        x = n\n",
    "        y = positions[index][1]\n",
    "        positions[index] = x,y\n",
    "        lats[index][positions[index]] = -1\n",
    "        \n",
    "    if (positions[index][1]<1): \n",
    "        \n",
    "        x = positions[index][0]\n",
    "        y = n\n",
    "        positions[index]= x,y\n",
    "        lats[index][positions[index]] = -1\n",
    "        \n",
    "    if (positions[index][0]>n): \n",
    "        \n",
    "        x = 1\n",
    "        y = positions[index][1]\n",
    "        positions[index] = x,y\n",
    "        lats[index][positions[index]] = -1\n",
    "    \n",
    "    if (positions[index][1]>n): \n",
    "        \n",
    "        x = positions[index][0]\n",
    "        y = 1\n",
    "        positions[index]= x,y\n",
    "        lats[index][positions[index]] = -1\n",
    "        \n",
    "    lats[index] = periodic_bd(lats[index][1:-1,1:-1])\n",
    "    \n",
    "    # return the vacancy position, new lattice and change in energy\n",
    "    \n",
    "    return lats[index], positions[index], energies[index]\n",
    "    \n",
    "\n",
    "res = iteration(larger_lat,vacancy_pos,0.01)\n",
    "ax = sns.heatmap(res[0])\n",
    "print(res[1],res[2])\n",
    "plt.show()\n",
    "print(vacancy_pos)"
   ]
  },
  {
   "cell_type": "code",
   "execution_count": 50,
   "metadata": {},
   "outputs": [],
   "source": [
    "# complete run\n",
    "\n",
    "# lattice initialisation\n",
    "\n",
    "n=25\n",
    "\n",
    "#lat = np.zeros([n,n])\n",
    "lat = (np.random.rand(n,n)<0.5)*1.0\n",
    "init_lat=lat\n",
    "\n",
    "vacancy_pos = 2,2\n",
    "vacancy_pos = vacancy_pos[0]+1,vacancy_pos[1]\n",
    "\n",
    "lat[vacancy_pos] = -1\n",
    "\n",
    "larger_lat = np.ones([n+2,n+2])*0.5\n",
    "larger_lat = periodic_bd(lat)\n",
    "vacancy_pos = vacancy_pos[0]+1,vacancy_pos[1]+1\n",
    "\n",
    "\n",
    "\n",
    "total_time = 1000\n",
    "record = np.zeros([n,n,total_time])\n",
    "#record = np.zeros([n+2,n+2,total_time])\n",
    "energies = np.zeros(total_time)\n",
    "current_energy=0\n",
    "\n",
    "kT = 2     # Fake Temperature\n",
    "\n",
    "\n",
    "for i in range(total_time):\n",
    "    \n",
    "    global larger_lat\n",
    "    record[:,:,i] = larger_lat[1:-1,1:-1]\n",
    "    #record[:,:,i] = larger_lat[:,:]\n",
    "    energies[i] = current_energy\n",
    "    #print(i,vacancy_pos[0],vacancy_pos[1])\n",
    "    larger_lat,vacancy_pos,delta_e = iteration(larger_lat,vacancy_pos,kT)\n",
    "    current_energy+= delta_e\n",
    "    "
   ]
  },
  {
   "cell_type": "code",
   "execution_count": 51,
   "metadata": {},
   "outputs": [
    {
     "data": {
      "application/vnd.jupyter.widget-view+json": {
       "model_id": "1ae9d74df0aa4d1f811b89ee81b5b9f7",
       "version_major": 2,
       "version_minor": 0
      },
      "text/plain": [
       "A Jupyter Widget"
      ]
     },
     "metadata": {},
     "output_type": "display_data"
    },
    {
     "data": {
      "text/plain": [
       "<function __main__.heat>"
      ]
     },
     "execution_count": 51,
     "metadata": {},
     "output_type": "execute_result"
    }
   ],
   "source": [
    "def heat(x):\n",
    "    ax = sns.heatmap(record[:,:,x])\n",
    "    plt.show()\n",
    "\n",
    "\n",
    "interact(heat,x=(0,record.shape[2]-1,1))"
   ]
  },
  {
   "cell_type": "code",
   "execution_count": null,
   "metadata": {
    "collapsed": true
   },
   "outputs": [],
   "source": []
  }
 ],
 "metadata": {
  "kernelspec": {
   "display_name": "Python 3",
   "language": "python",
   "name": "python3"
  },
  "language_info": {
   "codemirror_mode": {
    "name": "ipython",
    "version": 3
   },
   "file_extension": ".py",
   "mimetype": "text/x-python",
   "name": "python",
   "nbconvert_exporter": "python",
   "pygments_lexer": "ipython3",
   "version": "3.6.3"
  }
 },
 "nbformat": 4,
 "nbformat_minor": 2
}
