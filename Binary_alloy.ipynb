{
 "cells": [
  {
   "cell_type": "code",
   "execution_count": 57,
   "metadata": {
    "collapsed": true
   },
   "outputs": [],
   "source": [
    "import numpy as np\n",
    "from ipywidgets import interact\n",
    "import seaborn as sns; sns.set()\n",
    "from IPython.display import display\n",
    "import matplotlib.pyplot as plt\n",
    "\n",
    "%matplotlib inline"
   ]
  },
  {
   "cell_type": "code",
   "execution_count": 58,
   "metadata": {
    "collapsed": true
   },
   "outputs": [],
   "source": [
    "# define pAA, pAB, pBB\n",
    "# A's are zeros, B's are ones\n",
    "\n",
    "pAA = -1\n",
    "pBB = -1\n",
    "pAB = -1.5"
   ]
  },
  {
   "cell_type": "code",
   "execution_count": 59,
   "metadata": {},
   "outputs": [
    {
     "data": {
      "image/png": "[encoded data removed]",
      "text/plain": [
       "<Figure size 432x288 with 2 Axes>"
      ]
     },
     "metadata": {},
     "output_type": "display_data"
    }
   ],
   "source": [
    "# lattice initialisation\n",
    "\n",
    "n=25\n",
    "\n",
    "#lat = np.zeros([n,n])\n",
    "lat = np.random.rand(n,n)<0.5\n",
    "init_lat=lat\n",
    "\n",
    "larger_lat = np.ones([n+2,n+2])*0.5\n",
    "\n",
    "ax = sns.heatmap(lat[:,:])\n",
    "plt.show()"
   ]
  },
  {
   "cell_type": "code",
   "execution_count": 60,
   "metadata": {},
   "outputs": [
    {
     "name": "stdout",
     "output_type": "stream",
     "text": [
      "Initial energy =  -1683.0\n"
     ]
    },
    {
     "data": {
      "image/png": "[encoded data removed]",
      "text/plain": [
       "<Figure size 432x288 with 2 Axes>"
      ]
     },
     "metadata": {},
     "output_type": "display_data"
    }
   ],
   "source": [
    "# Total energy calculation. Sloow\n",
    "\n",
    "def periodic_bd(lat):\n",
    "    \n",
    "    larger_lat = np.ones([n+2,n+2])*0.5\n",
    "    larger_lat[1:-1,1:-1] = lat\n",
    "    larger_lat[1:-1,0] = lat[:,-1]\n",
    "    larger_lat[1:-1,-1] = lat[:,0]\n",
    "    larger_lat[0,1:-1] = lat[-1,:]\n",
    "    larger_lat[-1,1:-1] = lat[0,:]\n",
    "    \n",
    "    return larger_lat\n",
    "    \n",
    "\n",
    "larger_lat = periodic_bd(lat)\n",
    "def calc_energy_total(lat):\n",
    "    \n",
    "    larger_lat = periodic_bd(lat)\n",
    "    energy=0\n",
    "    \n",
    "    for i in range(n+1):        \n",
    "        for j in range(n+1):\n",
    "            \n",
    "            energy += (larger_lat[i,j]==larger_lat[i+1,j]==0)*pAA + \\\n",
    "            (larger_lat[i,j]==larger_lat[i+1,j]==1)*pBB + \\\n",
    "            ((larger_lat[i,j]!=larger_lat[i+1,j])&(larger_lat[i+1,j]!=0.5))*pAB + \\\n",
    "            (larger_lat[i,j]==larger_lat[i,j+1]==0)*pAA + \\\n",
    "            (larger_lat[i,j]==larger_lat[i,j+1]==1)*pBB + \\\n",
    "            ((larger_lat[i,j]!=larger_lat[i,j+1])&(larger_lat[i,j+1]!=0.5))*pAB\n",
    "            \n",
    "    return energy\n",
    "\n",
    "initial_energy = calc_energy_total(lat)\n",
    "\n",
    "print(\"Initial energy = \", initial_energy)\n",
    "\n",
    "ax = sns.heatmap(init_lat)\n",
    "plt.show()"
   ]
  },
  {
   "cell_type": "code",
   "execution_count": 61,
   "metadata": {},
   "outputs": [
    {
     "data": {
      "text/plain": [
       "-4.5"
      ]
     },
     "execution_count": 61,
     "metadata": {},
     "output_type": "execute_result"
    }
   ],
   "source": [
    "def calc_energy_one(i1,j1,larger_lat):\n",
    "    \n",
    "    energy = (larger_lat[i1,j1]==larger_lat[i1+1,j1]==0)*pAA + \\\n",
    "    (larger_lat[i1,j1]==larger_lat[i1+1,j1]==1)*pBB + \\\n",
    "    ((larger_lat[i1,j1]!=larger_lat[i1+1,j1])&(larger_lat[i1+1,j1]!=0.5))*pAB + \\\n",
    "    (larger_lat[i1,j1]==larger_lat[i1,j1+1]==0)*pAA + \\\n",
    "    (larger_lat[i1,j1]==larger_lat[i1,j1+1]==1)*pBB + \\\n",
    "    ((larger_lat[i1,j1]!=larger_lat[i1,j1+1])&(larger_lat[i1,j1+1]!=0.5))*pAB + \\\n",
    "    (larger_lat[i1,j1]==larger_lat[i1,j1-1]==0)*pAA + \\\n",
    "    (larger_lat[i1,j1]==larger_lat[i1,j1-1]==1)*pBB + \\\n",
    "    ((larger_lat[i1,j1]!=larger_lat[i1,j1-1])&(larger_lat[i1,j1-1]!=0.5))*pAB + \\\n",
    "    (larger_lat[i1,j1]==larger_lat[i1-1,j1]==0)*pAA + \\\n",
    "    (larger_lat[i1,j1]==larger_lat[i1-1,j1]==1)*pBB + \\\n",
    "    ((larger_lat[i1,j1]!=larger_lat[i1-1,j1])&(larger_lat[i1-1,j1]!=0.5))*pAB\n",
    "    \n",
    "    return energy\n",
    "\n",
    "calc_energy_one(6,10,larger_lat)"
   ]
  },
  {
   "cell_type": "code",
   "execution_count": 62,
   "metadata": {
    "collapsed": true
   },
   "outputs": [],
   "source": [
    "# probability distribution for exchange. If delta_g is -ve, probability is 1\n",
    "# If +ve probability exponentially decays with delta_g\n",
    "\n",
    "def probability_function(delta_g,kT):\n",
    "    \n",
    "    #print(\"exp(-delt_g/kT = )\",np.exp(-delta_g/kT))\n",
    "    if (delta_g<=0):\n",
    "        \n",
    "        return True\n",
    "    \n",
    "    elif (np.random.random()<np.exp(-delta_g/kT)):\n",
    "        \n",
    "        return True\n",
    "    \n",
    "    else:\n",
    "        \n",
    "        return False"
   ]
  },
  {
   "cell_type": "code",
   "execution_count": 63,
   "metadata": {},
   "outputs": [
    {
     "data": {
      "image/png": "[encoded data removed]",
      "text/plain": [
       "<Figure size 432x288 with 2 Axes>"
      ]
     },
     "metadata": {},
     "output_type": "display_data"
    }
   ],
   "source": [
    "def iteration(lat,kT):\n",
    "    \n",
    "    swap1 = np.random.randint(0,n,2)\n",
    "    swap2 = np.random.randint(0,n,2)\n",
    "\n",
    "    #swapping, creating lat and old lat\n",
    "\n",
    "    old_larger_lat = periodic_bd(lat)\n",
    "    \n",
    "    temp = lat[swap1[0]][swap1[1]]\n",
    "    lat[swap1[0]][swap1[1]] = lat[swap2[0]][swap2[1]]\n",
    "    lat[swap2[0]][swap2[1]] = temp\n",
    "    \n",
    "    larger_lat = periodic_bd(lat)\n",
    "\n",
    "    \n",
    "    delta_g = (calc_energy_one(swap1[0]+1,swap1[1]+1,larger_lat)+ \\\n",
    "    calc_energy_one(swap2[0]+1,swap2[1]+1,larger_lat)) \\\n",
    "    -(calc_energy_one(swap1[0]+1,swap1[1]+1,old_larger_lat)+ \\\n",
    "    calc_energy_one(swap2[0]+1,swap2[1]+1,old_larger_lat))\n",
    "    \n",
    "    #print(\"delta_g = \",delta_g)\n",
    "    \n",
    "    if (probability_function(delta_g,kT)):\n",
    "        \n",
    "        #print(\"choosing new_lat\")\n",
    "        return larger_lat[1:-1,1:-1]\n",
    "    \n",
    "    else:\n",
    "        #print(\"choosing old_lat\")\n",
    "        return old_larger_lat[1:-1,1:-1]\n",
    "    \n",
    "ax = sns.heatmap(iteration(lat,0.01))\n",
    "plt.show()\n",
    "    "
   ]
  },
  {
   "cell_type": "code",
   "execution_count": 68,
   "metadata": {},
   "outputs": [],
   "source": [
    "total_time = 6000\n",
    "record = np.zeros([n,n,total_time])\n",
    "energies = np.zeros(total_time)\n",
    "\n",
    "kT = 10\n",
    "\n",
    "for i in range(total_time):\n",
    "    \n",
    "    global lat\n",
    "    record[:,:,i] = lat\n",
    "    lat = iteration(lat,kT)"
   ]
  },
  {
   "cell_type": "code",
   "execution_count": 69,
   "metadata": {},
   "outputs": [
    {
     "data": {
      "application/vnd.jupyter.widget-view+json": {
       "model_id": "eab64434c4cd4beca62a148e46668aa6",
       "version_major": 2,
       "version_minor": 0
      },
      "text/plain": [
       "A Jupyter Widget"
      ]
     },
     "metadata": {},
     "output_type": "display_data"
    },
    {
     "data": {
      "text/plain": [
       "<function __main__.heat>"
      ]
     },
     "execution_count": 69,
     "metadata": {},
     "output_type": "execute_result"
    }
   ],
   "source": [
    "def heat(x):\n",
    "    ax = sns.heatmap(record[:,:,x])\n",
    "    plt.show()\n",
    "\n",
    "\n",
    "interact(heat,x=(0,record.shape[2]-1,1))"
   ]
  },
  {
   "cell_type": "code",
   "execution_count": 66,
   "metadata": {
    "collapsed": true
   },
   "outputs": [],
   "source": [
    "total_time = 6000\n",
    "record = np.zeros([n,n,total_time])\n",
    "energies = np.zeros(total_time)\n",
    "\n",
    "kT = 0.01\n",
    "\n",
    "for i in range(total_time):\n",
    "    \n",
    "    global lat\n",
    "    record[:,:,i] = lat\n",
    "    lat = iteration(lat,kT)"
   ]
  },
  {
   "cell_type": "code",
   "execution_count": 67,
   "metadata": {},
   "outputs": [
    {
     "data": {
      "application/vnd.jupyter.widget-view+json": {
       "model_id": "9bf1fccebc694676be4c7c6a7bd09e53",
       "version_major": 2,
       "version_minor": 0
      },
      "text/plain": [
       "A Jupyter Widget"
      ]
     },
     "metadata": {},
     "output_type": "display_data"
    },
    {
     "data": {
      "text/plain": [
       "<function __main__.heat>"
      ]
     },
     "execution_count": 67,
     "metadata": {},
     "output_type": "execute_result"
    }
   ],
   "source": [
    "def heat(x):\n",
    "    ax = sns.heatmap(record[:,:,x])\n",
    "    plt.show()\n",
    "\n",
    "\n",
    "interact(heat,x=(0,record.shape[2]-1,1))"
   ]
  },
  {
   "cell_type": "code",
   "execution_count": null,
   "metadata": {
    "collapsed": true
   },
   "outputs": [],
   "source": []
  }
 ],
 "metadata": {
  "kernelspec": {
   "display_name": "Python 3",
   "language": "python",
   "name": "python3"
  },
  "language_info": {
   "codemirror_mode": {
    "name": "ipython",
    "version": 3
   },
   "file_extension": ".py",
   "mimetype": "text/x-python",
   "name": "python",
   "nbconvert_exporter": "python",
   "pygments_lexer": "ipython3",
   "version": "3.6.3"
  }
 },
 "nbformat": 4,
 "nbformat_minor": 2
}
